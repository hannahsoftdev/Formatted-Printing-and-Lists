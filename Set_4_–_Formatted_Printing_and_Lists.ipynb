{
  "nbformat": 4,
  "nbformat_minor": 0,
  "metadata": {
    "colab": {
      "provenance": []
    },
    "kernelspec": {
      "name": "python3",
      "display_name": "Python 3"
    },
    "language_info": {
      "name": "python"
    }
  },
  "cells": [
    {
      "cell_type": "code",
      "execution_count": 14,
      "metadata": {
        "colab": {
          "base_uri": "https://localhost:8080/"
        },
        "id": "JZQRvN2p0imo",
        "outputId": "9011bf8b-f20a-4b8c-8dae-eae0ccc8fdfe"
      },
      "outputs": [
        {
          "output_type": "stream",
          "name": "stdout",
          "text": [
            "Multiplying 3.14159 and 2 gives 6.283\n"
          ]
        }
      ],
      "source": [
        "#9. Formatted print to screen\n",
        "x=3.14159\n",
        "y=2\n",
        "z=x*y\n",
        "print(f\"Multiplying {x} and {y} gives {z:.3f}\")"
      ]
    },
    {
      "cell_type": "code",
      "source": [
        "#12. Square list\n",
        "num_list = [2, 5, 6, 8, 11]\n",
        "\n",
        "for num in num_list:\n",
        "  print(num ** 2)"
      ],
      "metadata": {
        "colab": {
          "base_uri": "https://localhost:8080/"
        },
        "id": "1Fc2EDOr1Zrx",
        "outputId": "f5f3058b-762b-433e-b80c-7bfc0098102e"
      },
      "execution_count": 29,
      "outputs": [
        {
          "output_type": "stream",
          "name": "stdout",
          "text": [
            "4\n",
            "25\n",
            "36\n",
            "64\n",
            "121\n"
          ]
        }
      ]
    }
  ]
}